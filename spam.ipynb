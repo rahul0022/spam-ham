{
 "cells": [
  {
   "cell_type": "code",
   "execution_count": 1,
   "metadata": {},
   "outputs": [
    {
     "name": "stderr",
     "output_type": "stream",
     "text": [
      "C:\\Users\\aniru\\Anaconda3\\lib\\site-packages\\sklearn\\cross_validation.py:41: DeprecationWarning: This module was deprecated in version 0.18 in favor of the model_selection module into which all the refactored classes and functions are moved. Also note that the interface of the new CV iterators are different from that of this module. This module will be removed in 0.20.\n",
      "  \"This module will be removed in 0.20.\", DeprecationWarning)\n"
     ]
    }
   ],
   "source": [
    "import numpy as np\n",
    "import pandas as pd\n",
    "from sklearn.cross_validation import train_test_split\n",
    "from sklearn.feature_extraction.text import CountVectorizer\n",
    "from sklearn.naive_bayes import MultinomialNB\n",
    "from sklearn.feature_extraction.text import TfidfVectorizer\n"
   ]
  },
  {
   "cell_type": "code",
   "execution_count": 2,
   "metadata": {
    "collapsed": true
   },
   "outputs": [],
   "source": [
    "df=pd.read_csv('spam.csv' ,sep='\\t',names=['stat' , 'message'])\n"
   ]
  },
  {
   "cell_type": "code",
   "execution_count": 3,
   "metadata": {},
   "outputs": [
    {
     "data": {
      "text/html": [
       "<div>\n",
       "<style>\n",
       "    .dataframe thead tr:only-child th {\n",
       "        text-align: right;\n",
       "    }\n",
       "\n",
       "    .dataframe thead th {\n",
       "        text-align: left;\n",
       "    }\n",
       "\n",
       "    .dataframe tbody tr th {\n",
       "        vertical-align: top;\n",
       "    }\n",
       "</style>\n",
       "<table border=\"1\" class=\"dataframe\">\n",
       "  <thead>\n",
       "    <tr style=\"text-align: right;\">\n",
       "      <th></th>\n",
       "      <th>stat</th>\n",
       "      <th>message</th>\n",
       "    </tr>\n",
       "  </thead>\n",
       "  <tbody>\n",
       "    <tr>\n",
       "      <th>0</th>\n",
       "      <td>ham</td>\n",
       "      <td>Go until jurong point, crazy.. Available only ...</td>\n",
       "    </tr>\n",
       "    <tr>\n",
       "      <th>1</th>\n",
       "      <td>ham</td>\n",
       "      <td>Ok lar... Joking wif u oni...</td>\n",
       "    </tr>\n",
       "    <tr>\n",
       "      <th>2</th>\n",
       "      <td>spam</td>\n",
       "      <td>Free entry in 2 a wkly comp to win FA Cup fina...</td>\n",
       "    </tr>\n",
       "    <tr>\n",
       "      <th>3</th>\n",
       "      <td>ham</td>\n",
       "      <td>U dun say so early hor... U c already then say...</td>\n",
       "    </tr>\n",
       "    <tr>\n",
       "      <th>4</th>\n",
       "      <td>ham</td>\n",
       "      <td>Nah I don't think he goes to usf, he lives aro...</td>\n",
       "    </tr>\n",
       "  </tbody>\n",
       "</table>\n",
       "</div>"
      ],
      "text/plain": [
       "   stat                                            message\n",
       "0   ham  Go until jurong point, crazy.. Available only ...\n",
       "1   ham                      Ok lar... Joking wif u oni...\n",
       "2  spam  Free entry in 2 a wkly comp to win FA Cup fina...\n",
       "3   ham  U dun say so early hor... U c already then say...\n",
       "4   ham  Nah I don't think he goes to usf, he lives aro..."
      ]
     },
     "execution_count": 3,
     "metadata": {},
     "output_type": "execute_result"
    }
   ],
   "source": [
    "df.head()"
   ]
  },
  {
   "cell_type": "code",
   "execution_count": null,
   "metadata": {
    "collapsed": true
   },
   "outputs": [],
   "source": [
    "df.loc[df[\"stat\"]==\"ham\",\"stat\"]=1"
   ]
  },
  {
   "cell_type": "code",
   "execution_count": null,
   "metadata": {
    "collapsed": true
   },
   "outputs": [],
   "source": [
    "df.loc[df[\"stat\"]==\"spam\" , \"stat\"]=0"
   ]
  },
  {
   "cell_type": "code",
   "execution_count": 73,
   "metadata": {},
   "outputs": [
    {
     "data": {
      "text/html": [
       "<div>\n",
       "<style>\n",
       "    .dataframe thead tr:only-child th {\n",
       "        text-align: right;\n",
       "    }\n",
       "\n",
       "    .dataframe thead th {\n",
       "        text-align: left;\n",
       "    }\n",
       "\n",
       "    .dataframe tbody tr th {\n",
       "        vertical-align: top;\n",
       "    }\n",
       "</style>\n",
       "<table border=\"1\" class=\"dataframe\">\n",
       "  <thead>\n",
       "    <tr style=\"text-align: right;\">\n",
       "      <th></th>\n",
       "      <th>stat</th>\n",
       "      <th>message</th>\n",
       "    </tr>\n",
       "  </thead>\n",
       "  <tbody>\n",
       "    <tr>\n",
       "      <th>0</th>\n",
       "      <td>1</td>\n",
       "      <td>Go until jurong point, crazy.. Available only ...</td>\n",
       "    </tr>\n",
       "    <tr>\n",
       "      <th>1</th>\n",
       "      <td>1</td>\n",
       "      <td>Ok lar... Joking wif u oni...</td>\n",
       "    </tr>\n",
       "    <tr>\n",
       "      <th>2</th>\n",
       "      <td>0</td>\n",
       "      <td>Free entry in 2 a wkly comp to win FA Cup fina...</td>\n",
       "    </tr>\n",
       "    <tr>\n",
       "      <th>3</th>\n",
       "      <td>1</td>\n",
       "      <td>U dun say so early hor... U c already then say...</td>\n",
       "    </tr>\n",
       "    <tr>\n",
       "      <th>4</th>\n",
       "      <td>1</td>\n",
       "      <td>Nah I don't think he goes to usf, he lives aro...</td>\n",
       "    </tr>\n",
       "  </tbody>\n",
       "</table>\n",
       "</div>"
      ],
      "text/plain": [
       "  stat                                            message\n",
       "0    1  Go until jurong point, crazy.. Available only ...\n",
       "1    1                      Ok lar... Joking wif u oni...\n",
       "2    0  Free entry in 2 a wkly comp to win FA Cup fina...\n",
       "3    1  U dun say so early hor... U c already then say...\n",
       "4    1  Nah I don't think he goes to usf, he lives aro..."
      ]
     },
     "execution_count": 73,
     "metadata": {},
     "output_type": "execute_result"
    }
   ],
   "source": [
    "df.head()\n"
   ]
  },
  {
   "cell_type": "code",
   "execution_count": null,
   "metadata": {
    "collapsed": true
   },
   "outputs": [],
   "source": [
    "x=df[\"message\"]"
   ]
  },
  {
   "cell_type": "code",
   "execution_count": null,
   "metadata": {
    "collapsed": true
   },
   "outputs": [],
   "source": [
    "y=df['stat']"
   ]
  },
  {
   "cell_type": "code",
   "execution_count": null,
   "metadata": {
    "collapsed": true
   },
   "outputs": [],
   "source": [
    "x_train , x_test , y_train , y_test=train_test_split(x,y,test_size=0.1,random_state=4)"
   ]
  },
  {
   "cell_type": "code",
   "execution_count": 85,
   "metadata": {},
   "outputs": [
    {
     "data": {
      "text/plain": [
       "4004    somewhere out there beneath the pale moon ligh...\n",
       "2276           Is that on the telly? No its Brdget Jones!\n",
       "4498                                                   Ok\n",
       "3755    Bloomberg -Message center +447797706009 Why wa...\n",
       "111              What is the plural of the noun research?\n",
       "3662                  Well then you have a great weekend!\n",
       "4282    Wn u r hurt by d prsn who s close 2 u, do figh...\n",
       "1991    HI DARLIN IVE JUST GOT BACK AND I HAD A REALLY...\n",
       "2298                            Draw va?i dont think so:)\n",
       "2438    For ur chance to win £250 cash every wk TXT: P...\n",
       "4164                  I told that am coming on wednesday.\n",
       "5336    Sounds better than my evening im just doing my...\n",
       "4919    Sitting in mu waiting for everyone to get out ...\n",
       "387                       Customer place i will call you.\n",
       "3968    YOU HAVE WON! As a valued Vodafone customer ou...\n",
       "4844                I need details about that online job.\n",
       "260     I‘m parked next to a MINI!!!! When are you com...\n",
       "3484    Hello, my love! How goes that day ? I wish you...\n",
       "3668    Honey ? Sweetheart ? Darling ? Sexy buns ? Sug...\n",
       "2472                sry can't talk on phone, with parents\n",
       "2752                Play w computer? Aiyah i tok 2 u lor?\n",
       "3643    My house here e sky quite dark liao... If rain...\n",
       "3456    No need lar. Jus testing e phone card. Dunno n...\n",
       "4586    U have a Secret Admirer who is looking 2 make ...\n",
       "5481                      Shall call now dear having food\n",
       "3331                          Send me yetty's number pls.\n",
       "4992    We made it! Eta at taunton is 12:30 as planned...\n",
       "3023                          How dare you change my ring\n",
       "4782    Yup... Hey then one day on fri we can ask miwa...\n",
       "1849    I dont want to hear philosophy. Just say what ...\n",
       "                              ...                        \n",
       "3827    Goodmorning,my grandfather expired..so am on l...\n",
       "2535                        Ok enjoy . R u there in home.\n",
       "3499    You said to me before i went back to bed that ...\n",
       "2294    Hello. Damn this christmas thing. I think i ha...\n",
       "1777                    Call FREEPHONE 0800 542 0578 now!\n",
       "1053    I got another job! The one at the hospital doi...\n",
       "4495    Man this bus is so so so slow. I think you're ...\n",
       "1171    Yeah, we can probably swing by once my roommat...\n",
       "3039    You are not bothering me but you have to trust...\n",
       "330     I'm reading the text i just sent you. Its mean...\n",
       "4931    Hi, the SEXYCHAT girls are waiting for you to ...\n",
       "1787    Do you know why god created gap between your f...\n",
       "2184    Chinatown got porridge, claypot rice, yam cake...\n",
       "1489    Tell them no need to investigate about me anyw...\n",
       "5229                  It means u could not keep ur words.\n",
       "1220    True. It is passable. And if you get a high sc...\n",
       "5513    Yes. Please leave at  &lt;#&gt; . So that at  ...\n",
       "532     What Today-sunday..sunday is holiday..so no wo...\n",
       "2515        Ok ill send you with in  &lt;DECIMAL&gt;  ok.\n",
       "416                   Whatsup there. Dont u want to sleep\n",
       "4293                                                G.W.R\n",
       "2050             How much is blackberry bold2 in nigeria.\n",
       "220     Yeah you should. I think you can use your gt a...\n",
       "2760    Can meh? Thgt some will clash... Really ah, i ...\n",
       "5468    URGENT! Last weekend's draw shows that you hav...\n",
       "4530      Hiya, probably coming home * weekend after next\n",
       "1189    All will come alive.better correct any good lo...\n",
       "2683    I got a call from a landline number. . . I am ...\n",
       "922     On ma way to school. Can you pls send me ashle...\n",
       "1075              Aight ill get on fb in a couple minutes\n",
       "Name: message, Length: 558, dtype: object"
      ]
     },
     "execution_count": 85,
     "metadata": {},
     "output_type": "execute_result"
    }
   ],
   "source": [
    "x_test"
   ]
  },
  {
   "cell_type": "code",
   "execution_count": 74,
   "metadata": {},
   "outputs": [
    {
     "data": {
      "text/plain": [
       "5014"
      ]
     },
     "execution_count": 74,
     "metadata": {},
     "output_type": "execute_result"
    }
   ],
   "source": [
    "len(x_train)"
   ]
  },
  {
   "cell_type": "code",
   "execution_count": 75,
   "metadata": {},
   "outputs": [
    {
     "data": {
      "text/plain": [
       "4914    0\n",
       "3352    1\n",
       "4785    1\n",
       "1835    1\n",
       "5479    1\n",
       "3172    1\n",
       "3005    0\n",
       "1501    1\n",
       "2598    1\n",
       "2730    0\n",
       "688     1\n",
       "1687    0\n",
       "784     0\n",
       "3166    1\n",
       "2982    1\n",
       "1675    1\n",
       "3744    1\n",
       "3764    1\n",
       "3819    0\n",
       "719     0\n",
       "1415    1\n",
       "2214    1\n",
       "1400    1\n",
       "2158    1\n",
       "1387    1\n",
       "4623    1\n",
       "4734    1\n",
       "4103    1\n",
       "1315    1\n",
       "3020    1\n",
       "       ..\n",
       "3394    1\n",
       "3633    1\n",
       "3720    0\n",
       "1054    1\n",
       "5493    1\n",
       "4270    1\n",
       "4802    1\n",
       "56      0\n",
       "2470    1\n",
       "3785    1\n",
       "149     1\n",
       "2581    0\n",
       "4279    1\n",
       "1024    1\n",
       "1411    1\n",
       "1588    1\n",
       "5246    1\n",
       "946     1\n",
       "5433    1\n",
       "5047    1\n",
       "2871    0\n",
       "3678    1\n",
       "1082    1\n",
       "4489    1\n",
       "456     1\n",
       "3671    1\n",
       "709     0\n",
       "2487    1\n",
       "174     1\n",
       "1146    0\n",
       "Name: stat, Length: 5014, dtype: int32"
      ]
     },
     "execution_count": 75,
     "metadata": {},
     "output_type": "execute_result"
    }
   ],
   "source": [
    "len(x_test)\n",
    "y_train"
   ]
  },
  {
   "cell_type": "code",
   "execution_count": 103,
   "metadata": {
    "collapsed": true
   },
   "outputs": [],
   "source": [
    "cv=TfidfVectorizer(min_df=1,stop_words='english')\n"
   ]
  },
  {
   "cell_type": "code",
   "execution_count": 105,
   "metadata": {
    "collapsed": true
   },
   "outputs": [],
   "source": [
    "x_cv=cv.fit_transform(x_train)\n",
    "x_tcv=cv.transform(x_test)\n"
   ]
  },
  {
   "cell_type": "code",
   "execution_count": 106,
   "metadata": {},
   "outputs": [
    {
     "data": {
      "text/plain": [
       "array([0, 1, 1, ..., 1, 1, 0])"
      ]
     },
     "execution_count": 106,
     "metadata": {},
     "output_type": "execute_result"
    }
   ],
   "source": [
    "b=x_cv.toarray()\n",
    "np.array(y_train)\n"
   ]
  },
  {
   "cell_type": "code",
   "execution_count": 107,
   "metadata": {},
   "outputs": [
    {
     "data": {
      "text/plain": [
       "4914    0\n",
       "3352    1\n",
       "4785    1\n",
       "1835    1\n",
       "5479    1\n",
       "3172    1\n",
       "3005    0\n",
       "1501    1\n",
       "2598    1\n",
       "2730    0\n",
       "688     1\n",
       "1687    0\n",
       "784     0\n",
       "3166    1\n",
       "2982    1\n",
       "1675    1\n",
       "3744    1\n",
       "3764    1\n",
       "3819    0\n",
       "719     0\n",
       "1415    1\n",
       "2214    1\n",
       "1400    1\n",
       "2158    1\n",
       "1387    1\n",
       "4623    1\n",
       "4734    1\n",
       "4103    1\n",
       "1315    1\n",
       "3020    1\n",
       "       ..\n",
       "3394    1\n",
       "3633    1\n",
       "3720    0\n",
       "1054    1\n",
       "5493    1\n",
       "4270    1\n",
       "4802    1\n",
       "56      0\n",
       "2470    1\n",
       "3785    1\n",
       "149     1\n",
       "2581    0\n",
       "4279    1\n",
       "1024    1\n",
       "1411    1\n",
       "1588    1\n",
       "5246    1\n",
       "946     1\n",
       "5433    1\n",
       "5047    1\n",
       "2871    0\n",
       "3678    1\n",
       "1082    1\n",
       "4489    1\n",
       "456     1\n",
       "3671    1\n",
       "709     0\n",
       "2487    1\n",
       "174     1\n",
       "1146    0\n",
       "Name: stat, Length: 5014, dtype: int32"
      ]
     },
     "execution_count": 107,
     "metadata": {},
     "output_type": "execute_result"
    }
   ],
   "source": [
    "mnb=MultinomialNB()\n",
    "y_train=y_train.astype('int')\n",
    "y_train"
   ]
  },
  {
   "cell_type": "code",
   "execution_count": 108,
   "metadata": {},
   "outputs": [
    {
     "data": {
      "text/plain": [
       "MultinomialNB(alpha=1.0, class_prior=None, fit_prior=True)"
      ]
     },
     "execution_count": 108,
     "metadata": {},
     "output_type": "execute_result"
    }
   ],
   "source": [
    "mnb.fit(x_cv, y_train)"
   ]
  },
  {
   "cell_type": "code",
   "execution_count": 116,
   "metadata": {
    "collapsed": true
   },
   "outputs": [],
   "source": [
    "actual=cv.transform(x_test)\n",
    "p=mnb.predict(a)"
   ]
  },
  {
   "cell_type": "code",
   "execution_count": 110,
   "metadata": {},
   "outputs": [
    {
     "data": {
      "text/plain": [
       "array([1])"
      ]
     },
     "execution_count": 110,
     "metadata": {},
     "output_type": "execute_result"
    }
   ],
   "source": [
    "\n",
    "p"
   ]
  },
  {
   "cell_type": "code",
   "execution_count": 117,
   "metadata": {
    "collapsed": true
   },
   "outputs": [],
   "source": [
    "actual=np.array(y_test)\n",
    "count=0\n",
    "for i in range(len(p)):\n",
    "    if p[i]==actual[i]:\n",
    "        count+=1"
   ]
  },
  {
   "cell_type": "code",
   "execution_count": 118,
   "metadata": {},
   "outputs": [
    {
     "data": {
      "text/plain": [
       "533"
      ]
     },
     "execution_count": 118,
     "metadata": {},
     "output_type": "execute_result"
    }
   ],
   "source": [
    "count\n"
   ]
  },
  {
   "cell_type": "code",
   "execution_count": null,
   "metadata": {
    "collapsed": true
   },
   "outputs": [],
   "source": [
    "len(y_test)"
   ]
  },
  {
   "cell_type": "code",
   "execution_count": 119,
   "metadata": {},
   "outputs": [
    {
     "data": {
      "text/plain": [
       "0.9551971326164874"
      ]
     },
     "execution_count": 119,
     "metadata": {},
     "output_type": "execute_result"
    }
   ],
   "source": [
    "533/558"
   ]
  },
  {
   "cell_type": "code",
   "execution_count": 121,
   "metadata": {},
   "outputs": [
    {
     "data": {
      "text/plain": [
       "[array(['78', 'arsenal', 'bergkamp', 'goal', 'henry', 'liverpool', 'margin',\n",
       "        'mins', 'pass', 'scores', 'shot', 'simple', 'yards'],\n",
       "       dtype='<U32')]"
      ]
     },
     "execution_count": 121,
     "metadata": {},
     "output_type": "execute_result"
    }
   ],
   "source": [
    "cv.inverse_transform(b[0])\n"
   ]
  },
  {
   "cell_type": "code",
   "execution_count": 122,
   "metadata": {},
   "outputs": [
    {
     "data": {
      "text/plain": [
       "'Goal! Arsenal 4 (Henry, 7 v Liverpool 2 Henry scores with a simple shot from 6 yards from a pass by Bergkamp to give Arsenal a 2 goal margin after 78 mins.'"
      ]
     },
     "execution_count": 122,
     "metadata": {},
     "output_type": "execute_result"
    }
   ],
   "source": [
    "x_train.iloc[0]"
   ]
  },
  {
   "cell_type": "code",
   "execution_count": null,
   "metadata": {
    "collapsed": true
   },
   "outputs": [],
   "source": []
  }
 ],
 "metadata": {
  "kernelspec": {
   "display_name": "Python 3",
   "language": "python",
   "name": "python3"
  },
  "language_info": {
   "codemirror_mode": {
    "name": "ipython",
    "version": 3
   },
   "file_extension": ".py",
   "mimetype": "text/x-python",
   "name": "python",
   "nbconvert_exporter": "python",
   "pygments_lexer": "ipython3",
   "version": "3.6.3"
  }
 },
 "nbformat": 4,
 "nbformat_minor": 2
}
